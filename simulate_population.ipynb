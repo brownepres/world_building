{
 "cells": [
  {
   "cell_type": "markdown",
   "metadata": {},
   "source": [
    "## Simulate data for the population\n",
    "Get the 10% of the actual population as a representative sample"
   ]
  },
  {
   "cell_type": "code",
   "execution_count": 1,
   "metadata": {},
   "outputs": [],
   "source": [
    "import numpy as np\n",
    "import pandas as pd\n",
    "import matplotlib.pyplot as plt"
   ]
  },
  {
   "cell_type": "markdown",
   "metadata": {},
   "source": [
    "### 4th cast: miners and farmers\n",
    "\n",
    "The reason behind choosing this specific distribution is explained in more depth in the Obsidian notes. \n",
    "Short: Brazilian favelas have the median age of 30, which is same for the entire population of El Salvador, which is the closest I could get to favela population. \n",
    "I calculate the variance of the distribution using El Salvadors age pyramid data from US Census Bureau dataset. "
   ]
  },
  {
   "cell_type": "code",
   "execution_count": null,
   "metadata": {},
   "outputs": [
    {
     "data": {
      "text/html": [
       "<div>\n",
       "<style scoped>\n",
       "    .dataframe tbody tr th:only-of-type {\n",
       "        vertical-align: middle;\n",
       "    }\n",
       "\n",
       "    .dataframe tbody tr th {\n",
       "        vertical-align: top;\n",
       "    }\n",
       "\n",
       "    .dataframe thead th {\n",
       "        text-align: right;\n",
       "    }\n",
       "</style>\n",
       "<table border=\"1\" class=\"dataframe\">\n",
       "  <thead>\n",
       "    <tr style=\"text-align: right;\">\n",
       "      <th></th>\n",
       "      <th>idx</th>\n",
       "      <th>age</th>\n",
       "      <th>sex</th>\n",
       "    </tr>\n",
       "  </thead>\n",
       "  <tbody>\n",
       "    <tr>\n",
       "      <th>0</th>\n",
       "      <td>0</td>\n",
       "      <td>48</td>\n",
       "      <td>0</td>\n",
       "    </tr>\n",
       "    <tr>\n",
       "      <th>1</th>\n",
       "      <td>1</td>\n",
       "      <td>68</td>\n",
       "      <td>0</td>\n",
       "    </tr>\n",
       "    <tr>\n",
       "      <th>2</th>\n",
       "      <td>2</td>\n",
       "      <td>81</td>\n",
       "      <td>0</td>\n",
       "    </tr>\n",
       "    <tr>\n",
       "      <th>3</th>\n",
       "      <td>3</td>\n",
       "      <td>31</td>\n",
       "      <td>0</td>\n",
       "    </tr>\n",
       "    <tr>\n",
       "      <th>4</th>\n",
       "      <td>4</td>\n",
       "      <td>32</td>\n",
       "      <td>0</td>\n",
       "    </tr>\n",
       "  </tbody>\n",
       "</table>\n",
       "</div>"
      ],
      "text/plain": [
       "   idx  age  sex\n",
       "0    0   48    0\n",
       "1    1   68    0\n",
       "2    2   81    0\n",
       "3    3   31    0\n",
       "4    4   32    0"
      ]
     },
     "execution_count": 87,
     "metadata": {},
     "output_type": "execute_result"
    }
   ],
   "source": [
    "def avg(x, y):\n",
    "    return (x + y) / 2\n",
    "\n",
    "women, men = 0.517, 0.483\n",
    "divider = 6800000\n",
    "sample_size = int((35200 + 28000) * 0.015)\n",
    "\n",
    "def simulateWomanPopulation(women, sample_size):\n",
    "    sample_size = int(round(sample_size * women, 0))\n",
    "    bins = np.array([19, 24, 29, 34, 39, 44, 49, 54, 59, 64, 69, 74, 79, 84, 90])\n",
    "    probs = np.array([0.041, 0.043, 0.047, 0.045, 0.039, 0.034, 0.032, 0.028, 0.025, 0.021, 0.017, 0.013, 0.009, 0.006])\n",
    "    probs = probs / probs.sum()\n",
    "    bin_indices = np.random.choice(len(probs), size=sample_size, p=probs)\n",
    "    samples = np.random.uniform(bins[bin_indices], bins[bin_indices+1])\n",
    "    return samples\n",
    "\n",
    "def simulateManPopulation(men, sample_size):\n",
    "    sample_size = int(round(sample_size * men, 0)) \n",
    "    bins = np.array([19, 24, 29, 34, 39, 44, 49, 54, 59, 64, 69, 74, 79, 84, 90])\n",
    "    probs = np.array([0.043, 0.045, 0.047, 0.044, 0.036, 0.030, 0.026, 0.022, 0.017, 0.015, 0.012, 0.009, 0.007, 0.005])\n",
    "    probs = probs / probs.sum()\n",
    "    bin_indices = np.random.choice(len(probs), size=sample_size, p=probs)\n",
    "    samples = np.random.uniform(bins[bin_indices], bins[bin_indices+1])\n",
    "    return samples\n",
    "\n",
    "    \n",
    "women_sample = simulateWomanPopulation(women, sample_size)\n",
    "men_sample = simulateManPopulation(men, sample_size)\n",
    "cast4_population_sample = pd.DataFrame({\n",
    "    \"idx\":range(0, sample_size),\n",
    "    \"age\":np.concatenate(\n",
    "        [np.round(women_sample, 0).astype('int'),\n",
    "          np.round(men_sample, 0).astype('int')]\n",
    "          ), \n",
    "    'sex':np.concatenate(\n",
    "        [np.zeros(int(round(women * sample_size, 0))).astype('int'),\n",
    "          np.ones(int(round(men * sample_size, 0))).astype('int')]\n",
    "          )\n",
    "})\n",
    "\n",
    "cast4_population_sample.head()"
   ]
  },
  {
   "cell_type": "code",
   "execution_count": null,
   "metadata": {},
   "outputs": [
    {
     "data": {
      "text/html": [
       "<div>\n",
       "<style scoped>\n",
       "    .dataframe tbody tr th:only-of-type {\n",
       "        vertical-align: middle;\n",
       "    }\n",
       "\n",
       "    .dataframe tbody tr th {\n",
       "        vertical-align: top;\n",
       "    }\n",
       "\n",
       "    .dataframe thead th {\n",
       "        text-align: right;\n",
       "    }\n",
       "</style>\n",
       "<table border=\"1\" class=\"dataframe\">\n",
       "  <thead>\n",
       "    <tr style=\"text-align: right;\">\n",
       "      <th></th>\n",
       "      <th>age</th>\n",
       "    </tr>\n",
       "  </thead>\n",
       "  <tbody>\n",
       "    <tr>\n",
       "      <th>0</th>\n",
       "      <td>38</td>\n",
       "    </tr>\n",
       "    <tr>\n",
       "      <th>1</th>\n",
       "      <td>46</td>\n",
       "    </tr>\n",
       "    <tr>\n",
       "      <th>2</th>\n",
       "      <td>22</td>\n",
       "    </tr>\n",
       "    <tr>\n",
       "      <th>3</th>\n",
       "      <td>46</td>\n",
       "    </tr>\n",
       "    <tr>\n",
       "      <th>4</th>\n",
       "      <td>87</td>\n",
       "    </tr>\n",
       "  </tbody>\n",
       "</table>\n",
       "</div>"
      ],
      "text/plain": [
       "   age\n",
       "0   38\n",
       "1   46\n",
       "2   22\n",
       "3   46\n",
       "4   87"
      ]
     },
     "execution_count": 74,
     "metadata": {},
     "output_type": "execute_result"
    }
   ],
   "source": []
  },
  {
   "cell_type": "code",
   "execution_count": null,
   "metadata": {},
   "outputs": [],
   "source": []
  },
  {
   "cell_type": "code",
   "execution_count": null,
   "metadata": {},
   "outputs": [],
   "source": []
  },
  {
   "cell_type": "code",
   "execution_count": null,
   "metadata": {},
   "outputs": [],
   "source": []
  }
 ],
 "metadata": {
  "kernelspec": {
   "display_name": "bb",
   "language": "python",
   "name": "python3"
  },
  "language_info": {
   "codemirror_mode": {
    "name": "ipython",
    "version": 3
   },
   "file_extension": ".py",
   "mimetype": "text/x-python",
   "name": "python",
   "nbconvert_exporter": "python",
   "pygments_lexer": "ipython3",
   "version": "3.12.11"
  }
 },
 "nbformat": 4,
 "nbformat_minor": 2
}
